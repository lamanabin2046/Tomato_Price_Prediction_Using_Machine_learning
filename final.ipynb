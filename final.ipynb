{
 "cells": [
  {
   "cell_type": "code",
   "execution_count": 7,
   "id": "e3594435-a389-4d69-9ff3-b0e1ec2c0057",
   "metadata": {},
   "outputs": [],
   "source": [
    "import pandas as pd"
   ]
  },
  {
   "cell_type": "code",
   "execution_count": 8,
   "id": "cab9531d-8567-44f5-855d-ab9534a62cdf",
   "metadata": {},
   "outputs": [],
   "source": [
    "df = pd.read_csv('veg_price_list.csv')"
   ]
  },
  {
   "cell_type": "code",
   "execution_count": 12,
   "id": "ec1d90e6-0823-4da9-aeaa-de8e42f0fa96",
   "metadata": {},
   "outputs": [
    {
     "name": "stdout",
     "output_type": "stream",
     "text": [
      "Index(['Date', 'commodity', 'Unit', 'Minimum', 'Maximum', 'Average_Price'], dtype='object')\n"
     ]
    }
   ],
   "source": [
    "# Assuming you want to rename the columns to standard English names\n",
    "df = pd.read_csv('veg_price_list.csv')\n",
    "\n",
    "# Define the renaming map\n",
    "column_rename_map = {\n",
    "    'Date': 'Date',          # 'Date' is already English, keeping it the same\n",
    "    'कृषि उपज': 'commodity',   # Agricultural Produce\n",
    "    'ईकाइ': 'Unit',          # Unit (like kg, quintal, etc.)\n",
    "    'न्यूनतम': 'Minimum',     # Minimum Price\n",
    "    'अधिकतम': 'Maximum',     # Maximum Price\n",
    "    'औसत': 'Average_Price'         # Average Price\n",
    "}\n",
    "\n",
    "# Rename the columns\n",
    "df = df.rename(columns=column_rename_map)\n",
    "\n",
    "# Print the new column names to verify\n",
    "print(df.columns)"
   ]
  },
  {
   "cell_type": "code",
   "execution_count": 13,
   "id": "234c3ffa-fb8f-4b91-9d0f-4695e6089fbf",
   "metadata": {},
   "outputs": [],
   "source": [
    "tomato = df[df['commodity'] =='गोलभेडा ठूलो(नेपाली)']"
   ]
  },
  {
   "cell_type": "code",
   "execution_count": 14,
   "id": "d249f6d4-c2c2-4299-baa2-746864d16fde",
   "metadata": {},
   "outputs": [
    {
     "name": "stdout",
     "output_type": "stream",
     "text": [
      "<class 'pandas.core.frame.DataFrame'>\n",
      "Index: 745 entries, 0 to 102518\n",
      "Data columns (total 6 columns):\n",
      " #   Column         Non-Null Count  Dtype \n",
      "---  ------         --------------  ----- \n",
      " 0   Date           745 non-null    object\n",
      " 1   commodity      745 non-null    object\n",
      " 2   Unit           745 non-null    object\n",
      " 3   Minimum        745 non-null    object\n",
      " 4   Maximum        745 non-null    object\n",
      " 5   Average_Price  745 non-null    object\n",
      "dtypes: object(6)\n",
      "memory usage: 40.7+ KB\n"
     ]
    }
   ],
   "source": [
    "tomato.info()"
   ]
  },
  {
   "cell_type": "code",
   "execution_count": 15,
   "id": "42dabf86-b4df-4f2d-a4ae-efc8073792e1",
   "metadata": {},
   "outputs": [
    {
     "data": {
      "text/html": [
       "<div>\n",
       "<style scoped>\n",
       "    .dataframe tbody tr th:only-of-type {\n",
       "        vertical-align: middle;\n",
       "    }\n",
       "\n",
       "    .dataframe tbody tr th {\n",
       "        vertical-align: top;\n",
       "    }\n",
       "\n",
       "    .dataframe thead th {\n",
       "        text-align: right;\n",
       "    }\n",
       "</style>\n",
       "<table border=\"1\" class=\"dataframe\">\n",
       "  <thead>\n",
       "    <tr style=\"text-align: right;\">\n",
       "      <th></th>\n",
       "      <th>Date</th>\n",
       "      <th>commodity</th>\n",
       "      <th>Unit</th>\n",
       "      <th>Minimum</th>\n",
       "      <th>Maximum</th>\n",
       "      <th>Average_Price</th>\n",
       "    </tr>\n",
       "  </thead>\n",
       "  <tbody>\n",
       "    <tr>\n",
       "      <th>0</th>\n",
       "      <td>01/01/2023</td>\n",
       "      <td>गोलभेडा ठूलो(नेपाली)</td>\n",
       "      <td>के.जी.</td>\n",
       "      <td>रू ४०.००</td>\n",
       "      <td>रू ५०.००</td>\n",
       "      <td>रू ४५.००</td>\n",
       "    </tr>\n",
       "    <tr>\n",
       "      <th>111</th>\n",
       "      <td>01/02/2023</td>\n",
       "      <td>गोलभेडा ठूलो(नेपाली)</td>\n",
       "      <td>के.जी.</td>\n",
       "      <td>रू ४०.००</td>\n",
       "      <td>रू ५०.००</td>\n",
       "      <td>रू ४६.६७</td>\n",
       "    </tr>\n",
       "    <tr>\n",
       "      <th>224</th>\n",
       "      <td>01/03/2023</td>\n",
       "      <td>गोलभेडा ठूलो(नेपाली)</td>\n",
       "      <td>के.जी.</td>\n",
       "      <td>रू ४०.००</td>\n",
       "      <td>रू ५०.००</td>\n",
       "      <td>रू ४५.००</td>\n",
       "    </tr>\n",
       "    <tr>\n",
       "      <th>333</th>\n",
       "      <td>01/04/2023</td>\n",
       "      <td>गोलभेडा ठूलो(नेपाली)</td>\n",
       "      <td>के.जी.</td>\n",
       "      <td>रू ५०.००</td>\n",
       "      <td>रू ६०.००</td>\n",
       "      <td>रू ५५.००</td>\n",
       "    </tr>\n",
       "    <tr>\n",
       "      <th>444</th>\n",
       "      <td>01/05/2023</td>\n",
       "      <td>गोलभेडा ठूलो(नेपाली)</td>\n",
       "      <td>के.जी.</td>\n",
       "      <td>रू ४०.००</td>\n",
       "      <td>रू ५०.००</td>\n",
       "      <td>रू ४६.६७</td>\n",
       "    </tr>\n",
       "  </tbody>\n",
       "</table>\n",
       "</div>"
      ],
      "text/plain": [
       "           Date             commodity    Unit   Minimum   Maximum  \\\n",
       "0    01/01/2023  गोलभेडा ठूलो(नेपाली)  के.जी.  रू ४०.००  रू ५०.००   \n",
       "111  01/02/2023  गोलभेडा ठूलो(नेपाली)  के.जी.  रू ४०.००  रू ५०.००   \n",
       "224  01/03/2023  गोलभेडा ठूलो(नेपाली)  के.जी.  रू ४०.००  रू ५०.००   \n",
       "333  01/04/2023  गोलभेडा ठूलो(नेपाली)  के.जी.  रू ५०.००  रू ६०.००   \n",
       "444  01/05/2023  गोलभेडा ठूलो(नेपाली)  के.जी.  रू ४०.००  रू ५०.००   \n",
       "\n",
       "    Average_Price  \n",
       "0        रू ४५.००  \n",
       "111      रू ४६.६७  \n",
       "224      रू ४५.००  \n",
       "333      रू ५५.००  \n",
       "444      रू ४६.६७  "
      ]
     },
     "execution_count": 15,
     "metadata": {},
     "output_type": "execute_result"
    }
   ],
   "source": [
    "tomato.head()"
   ]
  },
  {
   "cell_type": "code",
   "execution_count": 18,
   "id": "aca4b512-ff8b-40e5-a477-2e56a021d763",
   "metadata": {},
   "outputs": [
    {
     "name": "stdout",
     "output_type": "stream",
     "text": [
      "              commodity      Date Unit Minimum Maximum Average\n",
      "0    Tomato Big(Nepali)  1/5/2021   Kg      50      60      55\n",
      "1    Tomato Big(Indian)  1/5/2021   Kg      50      60      55\n",
      "2   Tomato Small(Local)  1/5/2021   Kg      30      35    32.5\n",
      "3  Tomato Small(Tunnel)  1/5/2021   Kg      30      35    32.5\n",
      "4  Tomato Small(Indian)  1/5/2021   KG      40      45    42.5\n"
     ]
    }
   ],
   "source": [
    "import pandas as pd\n",
    "\n",
    "# Define the new column names\n",
    "new_columns = ['commodity','Date' , 'Unit', 'Minimum', 'Maximum', 'Average']\n",
    "\n",
    "# Read the CSV file and assign the column names using the 'names' parameter\n",
    "df1 = pd.read_csv(\n",
    "    'kalimati2.csv',\n",
    "    names=new_columns,\n",
    "    header=None  # Use header=None if your CSV file doesn't have an existing header row\n",
    ")\n",
    "\n",
    "print(df1.head())"
   ]
  },
  {
   "cell_type": "code",
   "execution_count": 19,
   "id": "92430385-f130-49aa-b019-8db290b84326",
   "metadata": {},
   "outputs": [],
   "source": [
    "Tomato_2 = df1[df1['commodity'] == 'Tomato Big(Nepali)']"
   ]
  },
  {
   "cell_type": "code",
   "execution_count": 20,
   "id": "85dc727e-a11f-4e0a-86a9-cfbdc15b99d0",
   "metadata": {},
   "outputs": [
    {
     "data": {
      "text/html": [
       "<div>\n",
       "<style scoped>\n",
       "    .dataframe tbody tr th:only-of-type {\n",
       "        vertical-align: middle;\n",
       "    }\n",
       "\n",
       "    .dataframe tbody tr th {\n",
       "        vertical-align: top;\n",
       "    }\n",
       "\n",
       "    .dataframe thead th {\n",
       "        text-align: right;\n",
       "    }\n",
       "</style>\n",
       "<table border=\"1\" class=\"dataframe\">\n",
       "  <thead>\n",
       "    <tr style=\"text-align: right;\">\n",
       "      <th></th>\n",
       "      <th>commodity</th>\n",
       "      <th>Date</th>\n",
       "      <th>Unit</th>\n",
       "      <th>Minimum</th>\n",
       "      <th>Maximum</th>\n",
       "      <th>Average</th>\n",
       "    </tr>\n",
       "  </thead>\n",
       "  <tbody>\n",
       "    <tr>\n",
       "      <th>0</th>\n",
       "      <td>Tomato Big(Nepali)</td>\n",
       "      <td>1/5/2021</td>\n",
       "      <td>Kg</td>\n",
       "      <td>50</td>\n",
       "      <td>60</td>\n",
       "      <td>55</td>\n",
       "    </tr>\n",
       "    <tr>\n",
       "      <th>96</th>\n",
       "      <td>Tomato Big(Nepali)</td>\n",
       "      <td>1/6/2021</td>\n",
       "      <td>Kg</td>\n",
       "      <td>50</td>\n",
       "      <td>60</td>\n",
       "      <td>55</td>\n",
       "    </tr>\n",
       "    <tr>\n",
       "      <th>193</th>\n",
       "      <td>Tomato Big(Nepali)</td>\n",
       "      <td>1/7/2021</td>\n",
       "      <td>Kg</td>\n",
       "      <td>45</td>\n",
       "      <td>50</td>\n",
       "      <td>47.5</td>\n",
       "    </tr>\n",
       "    <tr>\n",
       "      <th>287</th>\n",
       "      <td>Tomato Big(Nepali)</td>\n",
       "      <td>1/8/2021</td>\n",
       "      <td>Kg</td>\n",
       "      <td>50</td>\n",
       "      <td>55</td>\n",
       "      <td>52.5</td>\n",
       "    </tr>\n",
       "    <tr>\n",
       "      <th>382</th>\n",
       "      <td>Tomato Big(Nepali)</td>\n",
       "      <td>1/9/2021</td>\n",
       "      <td>Kg</td>\n",
       "      <td>40</td>\n",
       "      <td>50</td>\n",
       "      <td>45</td>\n",
       "    </tr>\n",
       "    <tr>\n",
       "      <th>...</th>\n",
       "      <td>...</td>\n",
       "      <td>...</td>\n",
       "      <td>...</td>\n",
       "      <td>...</td>\n",
       "      <td>...</td>\n",
       "      <td>...</td>\n",
       "    </tr>\n",
       "    <tr>\n",
       "      <th>95159</th>\n",
       "      <td>Tomato Big(Nepali)</td>\n",
       "      <td>2023-09-14</td>\n",
       "      <td>KG</td>\n",
       "      <td>Rs 60.00</td>\n",
       "      <td>Rs 70.00</td>\n",
       "      <td>Rs 65.00</td>\n",
       "    </tr>\n",
       "    <tr>\n",
       "      <th>95523</th>\n",
       "      <td>Tomato Big(Nepali)</td>\n",
       "      <td>2023-09-18</td>\n",
       "      <td>KG</td>\n",
       "      <td>Rs 60.00</td>\n",
       "      <td>Rs 70.00</td>\n",
       "      <td>Rs 65.00</td>\n",
       "    </tr>\n",
       "    <tr>\n",
       "      <th>95618</th>\n",
       "      <td>Tomato Big(Nepali)</td>\n",
       "      <td>2023-09-19</td>\n",
       "      <td>KG</td>\n",
       "      <td>Rs 70.00</td>\n",
       "      <td>Rs 80.00</td>\n",
       "      <td>Rs 75.00</td>\n",
       "    </tr>\n",
       "    <tr>\n",
       "      <th>95715</th>\n",
       "      <td>Tomato Big(Nepali)</td>\n",
       "      <td>2023-09-20</td>\n",
       "      <td>KG</td>\n",
       "      <td>Rs 45.00</td>\n",
       "      <td>Rs 55.00</td>\n",
       "      <td>Rs 50.00</td>\n",
       "    </tr>\n",
       "    <tr>\n",
       "      <th>95812</th>\n",
       "      <td>Tomato Big(Nepali)</td>\n",
       "      <td>2023-09-21</td>\n",
       "      <td>KG</td>\n",
       "      <td>Rs 45.00</td>\n",
       "      <td>Rs 55.00</td>\n",
       "      <td>Rs 50.00</td>\n",
       "    </tr>\n",
       "  </tbody>\n",
       "</table>\n",
       "<p>757 rows × 6 columns</p>\n",
       "</div>"
      ],
      "text/plain": [
       "                commodity        Date Unit   Minimum   Maximum   Average\n",
       "0      Tomato Big(Nepali)    1/5/2021   Kg        50        60        55\n",
       "96     Tomato Big(Nepali)    1/6/2021   Kg        50        60        55\n",
       "193    Tomato Big(Nepali)    1/7/2021   Kg        45        50      47.5\n",
       "287    Tomato Big(Nepali)    1/8/2021   Kg        50        55      52.5\n",
       "382    Tomato Big(Nepali)    1/9/2021   Kg        40        50        45\n",
       "...                   ...         ...  ...       ...       ...       ...\n",
       "95159  Tomato Big(Nepali)  2023-09-14   KG  Rs 60.00  Rs 70.00  Rs 65.00\n",
       "95523  Tomato Big(Nepali)  2023-09-18   KG  Rs 60.00  Rs 70.00  Rs 65.00\n",
       "95618  Tomato Big(Nepali)  2023-09-19   KG  Rs 70.00  Rs 80.00  Rs 75.00\n",
       "95715  Tomato Big(Nepali)  2023-09-20   KG  Rs 45.00  Rs 55.00  Rs 50.00\n",
       "95812  Tomato Big(Nepali)  2023-09-21   KG  Rs 45.00  Rs 55.00  Rs 50.00\n",
       "\n",
       "[757 rows x 6 columns]"
      ]
     },
     "execution_count": 20,
     "metadata": {},
     "output_type": "execute_result"
    }
   ],
   "source": [
    "Tomato_2"
   ]
  },
  {
   "cell_type": "code",
   "execution_count": 28,
   "id": "63998b49-1ada-41c8-9fcf-0e0d86f56598",
   "metadata": {},
   "outputs": [],
   "source": [
    "# Assuming 'df' is your main DataFrame\n",
    "# Use .copy() when creating 'tomato'\n",
    "tomato = df[df['commodity'] == 'tomato'].copy()\n",
    "\n",
    "# Now, apply your cleaning operation\n",
    "tomato['Price'] = tomato['Average_Price'].str.split(' ').str[1]"
   ]
  },
  {
   "cell_type": "code",
   "execution_count": 29,
   "id": "1ecec0c6-8535-430f-98e3-3ce7a6ffc839",
   "metadata": {},
   "outputs": [],
   "source": [
    "tomato['Price'] = pd.to_numeric(tomato['Price'], errors = 'coerce')"
   ]
  },
  {
   "cell_type": "code",
   "execution_count": 30,
   "id": "1fc2a624-5f4e-4ae1-a517-a78e671f3de7",
   "metadata": {},
   "outputs": [
    {
     "data": {
      "text/html": [
       "<div>\n",
       "<style scoped>\n",
       "    .dataframe tbody tr th:only-of-type {\n",
       "        vertical-align: middle;\n",
       "    }\n",
       "\n",
       "    .dataframe tbody tr th {\n",
       "        vertical-align: top;\n",
       "    }\n",
       "\n",
       "    .dataframe thead th {\n",
       "        text-align: right;\n",
       "    }\n",
       "</style>\n",
       "<table border=\"1\" class=\"dataframe\">\n",
       "  <thead>\n",
       "    <tr style=\"text-align: right;\">\n",
       "      <th></th>\n",
       "      <th>Date</th>\n",
       "      <th>commodity</th>\n",
       "      <th>Unit</th>\n",
       "      <th>Minimum</th>\n",
       "      <th>Maximum</th>\n",
       "      <th>Average_Price</th>\n",
       "      <th>Price</th>\n",
       "    </tr>\n",
       "  </thead>\n",
       "  <tbody>\n",
       "  </tbody>\n",
       "</table>\n",
       "</div>"
      ],
      "text/plain": [
       "Empty DataFrame\n",
       "Columns: [Date, commodity, Unit, Minimum, Maximum, Average_Price, Price]\n",
       "Index: []"
      ]
     },
     "execution_count": 30,
     "metadata": {},
     "output_type": "execute_result"
    }
   ],
   "source": [
    "tomato.head()"
   ]
  },
  {
   "cell_type": "code",
   "execution_count": null,
   "id": "1c5663e3-68ce-4821-9ded-626cf5819df8",
   "metadata": {},
   "outputs": [],
   "source": []
  }
 ],
 "metadata": {
  "kernelspec": {
   "display_name": "Python (myConda)",
   "language": "python",
   "name": "myconda"
  },
  "language_info": {
   "codemirror_mode": {
    "name": "ipython",
    "version": 3
   },
   "file_extension": ".py",
   "mimetype": "text/x-python",
   "name": "python",
   "nbconvert_exporter": "python",
   "pygments_lexer": "ipython3",
   "version": "3.10.18"
  }
 },
 "nbformat": 4,
 "nbformat_minor": 5
}
